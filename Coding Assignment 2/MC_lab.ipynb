{
  "cells": [
    {
      "cell_type": "markdown",
      "metadata": {
        "id": "ca5ZSM-m4iCf"
      },
      "source": [
        "# Reinforcement Learning - Monte Carlo\n",
        "In this assignment you will use Monte Carlo methods to estimate a value function of a policy."
      ]
    },
    {
      "cell_type": "code",
      "execution_count": null,
      "metadata": {
        "id": "A2jEG9bF4iCg"
      },
      "outputs": [],
      "source": [
        "# This cell imports %%execwritefile command (executes cell and writes it into file).\n",
        "from custommagics import CustomMagics\n",
        "get_ipython().register_magics(CustomMagics)"
      ]
    },
    {
      "cell_type": "code",
      "execution_count": null,
      "metadata": {
        "id": "9QvgoItY4iCi"
      },
      "outputs": [],
      "source": [
        "%%execwritefile mc_autograde.py\n",
        "import numpy as np\n",
        "from collections import defaultdict\n",
        "from tqdm import tqdm as _tqdm\n",
        "\n",
        "def tqdm(*args, **kwargs):\n",
        "    return _tqdm(*args, **kwargs, mininterval=1)  # Safety, do not overflow buffer"
      ]
    },
    {
      "cell_type": "code",
      "execution_count": null,
      "metadata": {
        "id": "bBCnKCXB4iCi"
      },
      "outputs": [],
      "source": [
        "import matplotlib.pyplot as plt\n",
        "import sys\n",
        "\n",
        "%matplotlib inline"
      ]
    },
    {
      "cell_type": "markdown",
      "metadata": {
        "nbgrader": {
          "grade": false,
          "grade_id": "cell-7ab207a9f93cf4d3",
          "locked": true,
          "schema_version": 1,
          "solution": false
        },
        "id": "Dy6POqV84iCi"
      },
      "source": [
        "## 1. Monte Carlo Prediction"
      ]
    },
    {
      "cell_type": "markdown",
      "metadata": {
        "nbgrader": {
          "grade": false,
          "grade_id": "cell-5f0c1d608436b67b",
          "locked": true,
          "schema_version": 1,
          "solution": false
        },
        "id": "uhZTMA5C4iCj"
      },
      "source": [
        "For the Monte Carlo Prediction we will look at the Blackjack game (Example 5.1 from the book), for which the `BlackjackEnv` is implemented in `blackjack.py`. Note that compared to the gridworld, the state is no longer a single integer, which is why we use a dictionary to represent the value function instead of a numpy array. By using `defaultdict`, each state gets a default value of 0."
      ]
    },
    {
      "cell_type": "code",
      "execution_count": null,
      "metadata": {
        "nbgrader": {
          "grade": false,
          "grade_id": "cell-a342b69fcfdea5b2",
          "locked": true,
          "schema_version": 1,
          "solution": false
        },
        "id": "vVmYJep24iCj"
      },
      "outputs": [],
      "source": [
        "from blackjack import BlackjackEnv\n",
        "env = BlackjackEnv()"
      ]
    },
    {
      "cell_type": "markdown",
      "metadata": {
        "id": "o-RgLCl-4iCj"
      },
      "source": [
        "For the Monte Carlo algorithm, we no longer have transition probabilities and we need to *interact* with the environment. This means that we start an episode by using `env.reset` and send the environment actions via `env.step` to observe the reward and next observation (state)."
      ]
    },
    {
      "cell_type": "code",
      "execution_count": null,
      "metadata": {
        "nbgrader": {
          "grade": false,
          "grade_id": "cell-85356add2643980e",
          "locked": true,
          "schema_version": 1,
          "solution": false
        },
        "id": "baK_NqHA4iCk"
      },
      "outputs": [],
      "source": [
        "# So let's have a look at what we can do in general with an environment...\n",
        "import gym\n",
        "?gym.Env"
      ]
    },
    {
      "cell_type": "code",
      "execution_count": null,
      "metadata": {
        "nbgrader": {
          "grade": false,
          "grade_id": "cell-251b7b17c5d08a24",
          "locked": true,
          "schema_version": 1,
          "solution": false
        },
        "id": "O_wfxa7r4iCk"
      },
      "outputs": [],
      "source": [
        "# We can also look at the documentation/implementation of a method\n",
        "?env.step"
      ]
    },
    {
      "cell_type": "code",
      "execution_count": null,
      "metadata": {
        "nbgrader": {
          "grade": false,
          "grade_id": "cell-6decb2ab83c5bcec",
          "locked": true,
          "schema_version": 1,
          "solution": false
        },
        "id": "V4vdDTJz4iCl"
      },
      "outputs": [],
      "source": [
        "??BlackjackEnv"
      ]
    },
    {
      "cell_type": "markdown",
      "metadata": {
        "nbgrader": {
          "grade": false,
          "grade_id": "cell-ae161126d3cb1b7b",
          "locked": true,
          "schema_version": 1,
          "solution": false
        },
        "id": "wuA2aua14iCl"
      },
      "source": [
        "A very simple policy for Blackjack is to *stick* if we have 20 or 21 points and *hit* otherwise. We want to know how good this policy is. This policy is *deterministic* and therefore a function that maps an observation to a single action. Technically, we can implement this as a dictionary or, a function or a class with a function, where we use the last option. Moreover, it is often useful (as you will see later) to implement a function that returns  the probability $\\pi(a|s)$ for the state action pair (the probability that this policy would perform certain action in given state). We group these two functions in a policy class. To get started, let's implement this simple policy for BlackJack."
      ]
    },
    {
      "cell_type": "code",
      "execution_count": null,
      "metadata": {
        "nbgrader": {
          "grade": false,
          "grade_id": "cell-9fdcb503df9cdb08",
          "locked": false,
          "schema_version": 1,
          "solution": true
        },
        "id": "9wYDrCkj4iCm"
      },
      "outputs": [],
      "source": [
        "%%execwritefile -a mc_autograde.py\n",
        "\n",
        "class SimpleBlackjackPolicy(object):\n",
        "    \"\"\"\n",
        "    A simple BlackJack policy that sticks with less than 20 points and hits otherwise.\n",
        "    \"\"\"\n",
        "    def get_probs(self, states, actions):\n",
        "        \"\"\"\n",
        "        This method takes a list of states and a list of actions and returns a numpy array that contains a probability\n",
        "        of perfoming action in given state for every corresponding state action pair.\n",
        "\n",
        "        Args:\n",
        "            states: a list of states.\n",
        "            actions: a list of actions.\n",
        "\n",
        "        Returns:\n",
        "            Numpy array filled with probabilities (same length as states and actions)\n",
        "        \"\"\"\n",
        "        # YOUR CODE HERE\n",
        "        raise NotImplementedError\n",
        "        return np.array(probs)\n",
        "\n",
        "    def sample_action(self, state):\n",
        "        \"\"\"\n",
        "        This method takes a state as input and returns an action sampled from this policy.\n",
        "\n",
        "        Args:\n",
        "            state: current state\n",
        "\n",
        "        Returns:\n",
        "            An action (int).\n",
        "        \"\"\"\n",
        "        # YOUR CODE HERE\n",
        "        raise NotImplementedError\n",
        "        return action"
      ]
    },
    {
      "cell_type": "code",
      "execution_count": null,
      "metadata": {
        "nbgrader": {
          "grade": true,
          "grade_id": "cell-99f02e2d9b338a5b",
          "locked": true,
          "points": 1,
          "schema_version": 1,
          "solution": false
        },
        "id": "fwF6TX234iCm"
      },
      "outputs": [],
      "source": [
        "# Let's check if it makes sense\n",
        "env = BlackjackEnv()\n",
        "s = env.reset()\n",
        "policy = SimpleBlackjackPolicy()\n",
        "print(\"State: {}\\nSampled Action: {}\\nProbabilities [stick, hit]: {}\".format(s, policy.sample_action(s), policy.get_probs([s,s],[0,1])))"
      ]
    },
    {
      "cell_type": "markdown",
      "metadata": {
        "id": "5bkxxKSE4iCn"
      },
      "source": [
        "Since there are multiple algorithms which require data from single episode (or multiple episodes) it is useful to write a routine that will sample a single episode. This will save us some time later. Implement a *sample_episode* function which uses environment and policy to sample a single episode."
      ]
    },
    {
      "cell_type": "code",
      "execution_count": null,
      "metadata": {
        "id": "R3INxW8k4iCn"
      },
      "outputs": [],
      "source": [
        "%%execwritefile -a mc_autograde.py\n",
        "\n",
        "def sample_episode(env, policy):\n",
        "    \"\"\"\n",
        "    A sampling routine. Given environment and a policy samples one episode and returns states, actions, rewards\n",
        "    and dones from environment's step function and policy's sample_action function as lists.\n",
        "\n",
        "    Args:\n",
        "        env: OpenAI gym environment.\n",
        "        policy: A policy which allows us to sample actions with its sample_action method.\n",
        "\n",
        "    Returns:\n",
        "        Tuple of lists (states, actions, rewards, dones). All lists should have same length.\n",
        "        Hint: Do not include the state after the termination in the list of states.\n",
        "    \"\"\"\n",
        "    states = []\n",
        "    actions = []\n",
        "    rewards = []\n",
        "    dones = []\n",
        "\n",
        "    # YOUR CODE HERE\n",
        "    raise NotImplementedError\n",
        "    return states, actions, rewards, dones"
      ]
    },
    {
      "cell_type": "code",
      "execution_count": null,
      "metadata": {
        "id": "wIxTdaUF4iCn"
      },
      "outputs": [],
      "source": [
        "# Let's sample some episodes\n",
        "env = BlackjackEnv()\n",
        "policy = SimpleBlackjackPolicy()\n",
        "for episode in range(3):\n",
        "    trajectory_data = sample_episode(env, policy)\n",
        "    print(\"Episode {}:\\nStates {}\\nActions {}\\nRewards {}\\nDones {}\\n\".format(episode,*trajectory_data))"
      ]
    },
    {
      "cell_type": "markdown",
      "metadata": {
        "nbgrader": {
          "grade": false,
          "grade_id": "cell-0184f4c719afb98c",
          "locked": true,
          "schema_version": 1,
          "solution": false
        },
        "id": "9ZKa8RNI4iCo"
      },
      "source": [
        "Now implement the MC prediction algorithm (either first visit or every visit). Hint: you can use `for i in tqdm(range(num_episodes))` to show a progress bar."
      ]
    },
    {
      "cell_type": "code",
      "execution_count": null,
      "metadata": {
        "id": "ih4n7gPw4iCo"
      },
      "outputs": [],
      "source": [
        "%%execwritefile -a mc_autograde.py\n",
        "\n",
        "def mc_prediction(policy, env, num_episodes, discount_factor=1.0, sampling_function=sample_episode):\n",
        "    \"\"\"\n",
        "    Monte Carlo prediction algorithm. Calculates the value function\n",
        "    for a given policy using sampling.\n",
        "\n",
        "    Args:\n",
        "        policy: A policy which allows us to sample actions with its sample_action method.\n",
        "        env: OpenAI gym environment.\n",
        "        num_episodes: Number of episodes to sample.\n",
        "        discount_factor: Gamma discount factor.\n",
        "        sampling_function: Function that generates data from one episode.\n",
        "\n",
        "    Returns:\n",
        "        A dictionary that maps from state -> value.\n",
        "        The state is a tuple and the value is a float.\n",
        "    \"\"\"\n",
        "\n",
        "    # Keeps track of current V and count of returns for each state\n",
        "    # to calculate an update.\n",
        "    V = defaultdict(float)\n",
        "    returns_count = defaultdict(float)\n",
        "\n",
        "    # YOUR CODE HERE\n",
        "    raise NotImplementedError\n",
        "\n",
        "    return V"
      ]
    },
    {
      "cell_type": "code",
      "execution_count": null,
      "metadata": {
        "id": "NEVip3_Q4iCp"
      },
      "outputs": [],
      "source": [
        "V_10k = mc_prediction(SimpleBlackjackPolicy(), env, num_episodes=10000)\n",
        "print(V_10k)"
      ]
    },
    {
      "cell_type": "markdown",
      "metadata": {
        "nbgrader": {
          "grade": false,
          "grade_id": "cell-9d32f907f180c088",
          "locked": true,
          "schema_version": 1,
          "solution": false
        },
        "id": "vQvkOxW74iCp"
      },
      "source": [
        "Now make *4 plots* like Figure 5.1 in the book. You can either make 3D plots or heatmaps. Make sure that your results look similar to the results in the book. Give your plots appropriate titles, axis labels, etc."
      ]
    },
    {
      "cell_type": "code",
      "execution_count": null,
      "metadata": {
        "nbgrader": {
          "grade": false,
          "grade_id": "cell-cbaf4d6a0e4c00fa",
          "locked": true,
          "schema_version": 1,
          "solution": false
        },
        "id": "h4AU9h_34iCp"
      },
      "outputs": [],
      "source": [
        "%%time\n",
        "# Let's run your code one time\n",
        "V_500k = mc_prediction(SimpleBlackjackPolicy(), env, num_episodes=500000)"
      ]
    },
    {
      "cell_type": "code",
      "execution_count": 2,
      "metadata": {
        "nbgrader": {
          "grade": true,
          "grade_id": "cell-ba046443478aa517",
          "locked": false,
          "points": 2,
          "schema_version": 1,
          "solution": true
        },
        "id": "E6dkGHib4iCq"
      },
      "outputs": [],
      "source": [
        "import matplotlib\n",
        "from mpl_toolkits.mplot3d import Axes3D\n",
        "\n",
        "def plot_blackjack_value_function(V, title=\"Value Function\"):\n",
        "\n",
        "    # YOUR CODE HERE\n",
        "    raise NotImplementedError\n",
        "\n",
        "plot_blackjack_value_function(V_10k, \"10,000 steps\")\n",
        "plot_blackjack_value_function(V_500k, \"500,000 steps\")"
      ]
    },
    {
      "cell_type": "markdown",
      "metadata": {
        "id": "giOIBQJS4iCq"
      },
      "source": [
        "## 2. Off-policy Monte Carlo prediction\n",
        "In real world, it is often beneficial to learn from the experience of others in addition to your own. For example, you can probably infer that running off the cliff with a car is a bad idea if you consider what \"return\" people who have tried it received.\n",
        "\n",
        "Similarly, we can benefit from the experience of other agents in reinforcement learning. In this exercise we will use off-policy monte carlo to estimate the value function of our target policy using the experience from a different behavior policy. Our target policy will be the simple policy as defined above (stick if we have *20* or *21* points) and we will use random policy as a behavior policy. As a first step, implement a random BlackJack policy."
      ]
    },
    {
      "cell_type": "code",
      "execution_count": null,
      "metadata": {
        "id": "CFqYd7vO4iCq"
      },
      "outputs": [],
      "source": [
        "%%execwritefile -a mc_autograde.py\n",
        "\n",
        "class RandomBlackjackPolicy(object):\n",
        "    \"\"\"\n",
        "    A random BlackJack policy.\n",
        "    \"\"\"\n",
        "    def get_probs(self, states, actions):\n",
        "        \"\"\"\n",
        "        This method takes a list of states and a list of actions and returns a numpy array that contains\n",
        "        a probability of perfoming action in given state for every corresponding state action pair.\n",
        "\n",
        "        Args:\n",
        "            states: a list of states.\n",
        "            actions: a list of actions.\n",
        "\n",
        "        Returns:\n",
        "            Numpy array filled with probabilities (same length as states and actions)\n",
        "        \"\"\"\n",
        "\n",
        "        # YOUR CODE HERE\n",
        "        raise NotImplementedError\n",
        "\n",
        "        return np.array(probs)\n",
        "\n",
        "    def sample_action(self, state):\n",
        "        \"\"\"\n",
        "        This method takes a state as input and returns an action sampled from this policy.\n",
        "\n",
        "        Args:\n",
        "            state: current state\n",
        "\n",
        "        Returns:\n",
        "            An action (int).\n",
        "        \"\"\"\n",
        "\n",
        "        # YOUR CODE HERE\n",
        "        raise NotImplementedError\n",
        "\n",
        "        return action\n"
      ]
    },
    {
      "cell_type": "code",
      "execution_count": null,
      "metadata": {
        "id": "ajBp3YmN4iCq"
      },
      "outputs": [],
      "source": [
        "# Let's check if it makes sense\n",
        "env = BlackjackEnv()\n",
        "s = env.reset()\n",
        "policy = RandomBlackjackPolicy()\n",
        "print(\"State: {}\\nSampled Action: {}\\nProbabilities [stick, hit]: {}\".format(s, policy.sample_action(s), policy.get_probs([s,s],[0,1])))"
      ]
    },
    {
      "cell_type": "markdown",
      "metadata": {
        "id": "FLyc91K14iCr"
      },
      "source": [
        "Now implement the MC prediction algorithm with ordinary importance sampling\n",
        "\n",
        "Hint: you can use for i in tqdm(range(num_episodes)) to show a progress bar."
      ]
    },
    {
      "cell_type": "code",
      "execution_count": null,
      "metadata": {
        "id": "w79vkO0-4iCr"
      },
      "outputs": [],
      "source": [
        "%%execwritefile -a mc_autograde.py\n",
        "\n",
        "def mc_importance_sampling(behavior_policy, target_policy, env, num_episodes, discount_factor=1.0,\n",
        "                           sampling_function=sample_episode):\n",
        "    \"\"\"\n",
        "    Monte Carlo prediction algorithm. Calculates the value function\n",
        "    for a given target policy using behavior policy and ordinary importance sampling.\n",
        "\n",
        "    Args:\n",
        "        behavior_policy: A policy used to collect the data.\n",
        "        target_policy: A policy which value function we want to estimate.\n",
        "        env: OpenAI gym environment.\n",
        "        num_episodes: Number of episodes to sample.\n",
        "        discount_factor: Gamma discount factor.\n",
        "        sampling_function: Function that generates data from one episode.\n",
        "\n",
        "    Returns:\n",
        "        A dictionary that maps from state -> value.\n",
        "        The state is a tuple and the value is a float.\n",
        "    \"\"\"\n",
        "\n",
        "    # Keeps track of current V and count of returns for each state\n",
        "    # to calculate an update.\n",
        "    V = defaultdict(float)\n",
        "    returns_count = defaultdict(float)\n",
        "\n",
        "    # YOUR CODE HERE\n",
        "    raise NotImplementedError\n",
        "    return V"
      ]
    },
    {
      "cell_type": "code",
      "execution_count": null,
      "metadata": {
        "id": "2JNjVrCI4iCr"
      },
      "outputs": [],
      "source": [
        "%%time\n",
        "# Let's run your code one time\n",
        "V_10k = mc_importance_sampling(RandomBlackjackPolicy(), SimpleBlackjackPolicy(), env, num_episodes=10000)\n",
        "print(V_10k)"
      ]
    },
    {
      "cell_type": "code",
      "execution_count": null,
      "metadata": {
        "id": "RGDeN6Qu4iCr"
      },
      "outputs": [],
      "source": [
        "V_500k = mc_importance_sampling(RandomBlackjackPolicy(), SimpleBlackjackPolicy(), env, num_episodes=500000)"
      ]
    },
    {
      "cell_type": "markdown",
      "metadata": {
        "id": "_pfa8UBg4iCr"
      },
      "source": [
        "Let's plot the V function."
      ]
    },
    {
      "cell_type": "code",
      "execution_count": null,
      "metadata": {
        "id": "uiJTybx34iCr"
      },
      "outputs": [],
      "source": [
        "plot_blackjack_value_function(V_10k, \"10,000 steps\")\n",
        "plot_blackjack_value_function(V_500k, \"500,000 steps\")"
      ]
    }
  ],
  "metadata": {
    "celltoolbar": "Create Assignment",
    "kernelspec": {
      "display_name": "Python 3 (ipykernel)",
      "language": "python",
      "name": "python3"
    },
    "language_info": {
      "codemirror_mode": {
        "name": "ipython",
        "version": 3
      },
      "file_extension": ".py",
      "mimetype": "text/x-python",
      "name": "python",
      "nbconvert_exporter": "python",
      "pygments_lexer": "ipython3",
      "version": "3.12.0"
    },
    "colab": {
      "provenance": []
    }
  },
  "nbformat": 4,
  "nbformat_minor": 0
}